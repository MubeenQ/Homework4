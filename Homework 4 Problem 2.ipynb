{
 "cells": [
  {
   "cell_type": "code",
   "execution_count": 45,
   "id": "07efbff8",
   "metadata": {},
   "outputs": [],
   "source": [
    "# Mubeen Quadrt\n",
    "# ECGR 4105\n",
    "# Student ID: 801064313\n",
    "# Reference: SVR Pdf, Housing data"
   ]
  },
  {
   "cell_type": "code",
   "execution_count": 46,
   "id": "fb86fb95",
   "metadata": {},
   "outputs": [],
   "source": [
    "#1. Plot your regression model for SVR similar to the sample code provided on Canvas.\n",
    "#2. Compare your results against linear regression with regularization loss that you already did in homework1. \n",
    "#3. Use the PCA feature extraction for your training. Perform N number of independent training (N=1, …, K). Identify the optimum number of K, principal components that achieve the highest regression accuracy. \n",
    "#4. Explore different kernel tricks to capture non-linearities within your data. Plot the results and compare the accuracies for different kernels."
   ]
  },
  {
   "cell_type": "code",
   "execution_count": 47,
   "id": "862f38af",
   "metadata": {},
   "outputs": [],
   "source": [
    "import numpy as np \n",
    "import matplotlib.pyplot as plt \n",
    "import pandas as pd \n",
    "import seaborn as sns"
   ]
  },
  {
   "cell_type": "code",
   "execution_count": 48,
   "id": "cfe75fe7",
   "metadata": {},
   "outputs": [],
   "source": [
    "from sklearn.svm import SVR\n",
    "housing = pd.read_csv(\"https://raw.githubusercontent.com/MubeenQ/IntroToML/main/Housing.csv\")\n",
    "varList=['area','bedrooms','bathrooms', 'stories','mainroad','guestroom','basement','hotwaterheating','airconditioning','parking','prefarea', 'price']\n",
    "def binary_map(x):\n",
    "    return x.replace({'yes':1,'no':0})"
   ]
  },
  {
   "cell_type": "code",
   "execution_count": 49,
   "id": "74b6ab2f",
   "metadata": {},
   "outputs": [
    {
     "data": {
      "text/html": [
       "<div>\n",
       "<style scoped>\n",
       "    .dataframe tbody tr th:only-of-type {\n",
       "        vertical-align: middle;\n",
       "    }\n",
       "\n",
       "    .dataframe tbody tr th {\n",
       "        vertical-align: top;\n",
       "    }\n",
       "\n",
       "    .dataframe thead th {\n",
       "        text-align: right;\n",
       "    }\n",
       "</style>\n",
       "<table border=\"1\" class=\"dataframe\">\n",
       "  <thead>\n",
       "    <tr style=\"text-align: right;\">\n",
       "      <th></th>\n",
       "      <th>area</th>\n",
       "      <th>bedrooms</th>\n",
       "      <th>bathrooms</th>\n",
       "      <th>stories</th>\n",
       "      <th>mainroad</th>\n",
       "      <th>guestroom</th>\n",
       "      <th>basement</th>\n",
       "      <th>hotwaterheating</th>\n",
       "      <th>airconditioning</th>\n",
       "      <th>parking</th>\n",
       "      <th>prefarea</th>\n",
       "      <th>price</th>\n",
       "    </tr>\n",
       "  </thead>\n",
       "  <tbody>\n",
       "    <tr>\n",
       "      <th>0</th>\n",
       "      <td>7420</td>\n",
       "      <td>4</td>\n",
       "      <td>2</td>\n",
       "      <td>3</td>\n",
       "      <td>1</td>\n",
       "      <td>0</td>\n",
       "      <td>0</td>\n",
       "      <td>0</td>\n",
       "      <td>1</td>\n",
       "      <td>2</td>\n",
       "      <td>1</td>\n",
       "      <td>13300000</td>\n",
       "    </tr>\n",
       "    <tr>\n",
       "      <th>1</th>\n",
       "      <td>8960</td>\n",
       "      <td>4</td>\n",
       "      <td>4</td>\n",
       "      <td>4</td>\n",
       "      <td>1</td>\n",
       "      <td>0</td>\n",
       "      <td>0</td>\n",
       "      <td>0</td>\n",
       "      <td>1</td>\n",
       "      <td>3</td>\n",
       "      <td>0</td>\n",
       "      <td>12250000</td>\n",
       "    </tr>\n",
       "    <tr>\n",
       "      <th>2</th>\n",
       "      <td>9960</td>\n",
       "      <td>3</td>\n",
       "      <td>2</td>\n",
       "      <td>2</td>\n",
       "      <td>1</td>\n",
       "      <td>0</td>\n",
       "      <td>1</td>\n",
       "      <td>0</td>\n",
       "      <td>0</td>\n",
       "      <td>2</td>\n",
       "      <td>1</td>\n",
       "      <td>12250000</td>\n",
       "    </tr>\n",
       "    <tr>\n",
       "      <th>3</th>\n",
       "      <td>7500</td>\n",
       "      <td>4</td>\n",
       "      <td>2</td>\n",
       "      <td>2</td>\n",
       "      <td>1</td>\n",
       "      <td>0</td>\n",
       "      <td>1</td>\n",
       "      <td>0</td>\n",
       "      <td>1</td>\n",
       "      <td>3</td>\n",
       "      <td>1</td>\n",
       "      <td>12215000</td>\n",
       "    </tr>\n",
       "    <tr>\n",
       "      <th>4</th>\n",
       "      <td>7420</td>\n",
       "      <td>4</td>\n",
       "      <td>1</td>\n",
       "      <td>2</td>\n",
       "      <td>1</td>\n",
       "      <td>1</td>\n",
       "      <td>1</td>\n",
       "      <td>0</td>\n",
       "      <td>1</td>\n",
       "      <td>2</td>\n",
       "      <td>0</td>\n",
       "      <td>11410000</td>\n",
       "    </tr>\n",
       "  </tbody>\n",
       "</table>\n",
       "</div>"
      ],
      "text/plain": [
       "   area  bedrooms  bathrooms  stories  mainroad  guestroom  basement  \\\n",
       "0  7420         4          2        3         1          0         0   \n",
       "1  8960         4          4        4         1          0         0   \n",
       "2  9960         3          2        2         1          0         1   \n",
       "3  7500         4          2        2         1          0         1   \n",
       "4  7420         4          1        2         1          1         1   \n",
       "\n",
       "   hotwaterheating  airconditioning  parking  prefarea     price  \n",
       "0                0                1        2         1  13300000  \n",
       "1                0                1        3         0  12250000  \n",
       "2                0                0        2         1  12250000  \n",
       "3                0                1        3         1  12215000  \n",
       "4                0                1        2         0  11410000  "
      ]
     },
     "execution_count": 49,
     "metadata": {},
     "output_type": "execute_result"
    }
   ],
   "source": [
    "housing[varList] = housing[varList].apply(binary_map)\n",
    "housing = housing[varList] \n",
    "housing.head()"
   ]
  },
  {
   "cell_type": "code",
   "execution_count": 50,
   "id": "63d84bdf",
   "metadata": {},
   "outputs": [],
   "source": [
    "PCA_dataset2 = housing\n",
    "from sklearn.preprocessing import StandardScaler\n",
    "x = PCA_dataset2.loc[:, varList].values \n",
    "y = PCA_dataset2.loc[:,['price']].values \n",
    "x = StandardScaler().fit_transform(x)"
   ]
  },
  {
   "cell_type": "code",
   "execution_count": 51,
   "id": "dda19a3c",
   "metadata": {},
   "outputs": [],
   "source": [
    "from sklearn.decomposition import PCA \n",
    "pca = PCA(n_components=1) \n",
    "principalComponents = pca.fit_transform(x) \n",
    "principalDf = pd.DataFrame(data = principalComponents \n",
    "             , columns = ['principal component 1']) "
   ]
  },
  {
   "cell_type": "code",
   "execution_count": 52,
   "id": "aed13f27",
   "metadata": {},
   "outputs": [
    {
     "data": {
      "text/html": [
       "<div>\n",
       "<style scoped>\n",
       "    .dataframe tbody tr th:only-of-type {\n",
       "        vertical-align: middle;\n",
       "    }\n",
       "\n",
       "    .dataframe tbody tr th {\n",
       "        vertical-align: top;\n",
       "    }\n",
       "\n",
       "    .dataframe thead th {\n",
       "        text-align: right;\n",
       "    }\n",
       "</style>\n",
       "<table border=\"1\" class=\"dataframe\">\n",
       "  <thead>\n",
       "    <tr style=\"text-align: right;\">\n",
       "      <th></th>\n",
       "      <th>principal component 1</th>\n",
       "      <th>price</th>\n",
       "    </tr>\n",
       "  </thead>\n",
       "  <tbody>\n",
       "    <tr>\n",
       "      <th>0</th>\n",
       "      <td>5.158081</td>\n",
       "      <td>13300000</td>\n",
       "    </tr>\n",
       "    <tr>\n",
       "      <th>1</th>\n",
       "      <td>6.587988</td>\n",
       "      <td>12250000</td>\n",
       "    </tr>\n",
       "    <tr>\n",
       "      <th>2</th>\n",
       "      <td>4.183590</td>\n",
       "      <td>12250000</td>\n",
       "    </tr>\n",
       "    <tr>\n",
       "      <th>3</th>\n",
       "      <td>5.152171</td>\n",
       "      <td>12215000</td>\n",
       "    </tr>\n",
       "    <tr>\n",
       "      <th>4</th>\n",
       "      <td>3.912156</td>\n",
       "      <td>11410000</td>\n",
       "    </tr>\n",
       "    <tr>\n",
       "      <th>...</th>\n",
       "      <td>...</td>\n",
       "      <td>...</td>\n",
       "    </tr>\n",
       "    <tr>\n",
       "      <th>540</th>\n",
       "      <td>-1.743058</td>\n",
       "      <td>1820000</td>\n",
       "    </tr>\n",
       "    <tr>\n",
       "      <th>541</th>\n",
       "      <td>-3.008884</td>\n",
       "      <td>1767150</td>\n",
       "    </tr>\n",
       "    <tr>\n",
       "      <th>542</th>\n",
       "      <td>-2.589849</td>\n",
       "      <td>1750000</td>\n",
       "    </tr>\n",
       "    <tr>\n",
       "      <th>543</th>\n",
       "      <td>-2.931391</td>\n",
       "      <td>1750000</td>\n",
       "    </tr>\n",
       "    <tr>\n",
       "      <th>544</th>\n",
       "      <td>-1.814451</td>\n",
       "      <td>1750000</td>\n",
       "    </tr>\n",
       "  </tbody>\n",
       "</table>\n",
       "<p>545 rows × 2 columns</p>\n",
       "</div>"
      ],
      "text/plain": [
       "     principal component 1     price\n",
       "0                 5.158081  13300000\n",
       "1                 6.587988  12250000\n",
       "2                 4.183590  12250000\n",
       "3                 5.152171  12215000\n",
       "4                 3.912156  11410000\n",
       "..                     ...       ...\n",
       "540              -1.743058   1820000\n",
       "541              -3.008884   1767150\n",
       "542              -2.589849   1750000\n",
       "543              -2.931391   1750000\n",
       "544              -1.814451   1750000\n",
       "\n",
       "[545 rows x 2 columns]"
      ]
     },
     "execution_count": 52,
     "metadata": {},
     "output_type": "execute_result"
    }
   ],
   "source": [
    "finalDf = pd.concat([principalDf, PCA_dataset2[['price']]], axis = 1) \n",
    "finalDf"
   ]
  },
  {
   "cell_type": "code",
   "execution_count": 53,
   "id": "02244541",
   "metadata": {},
   "outputs": [
    {
     "data": {
      "text/plain": [
       "(545, 1)"
      ]
     },
     "execution_count": 53,
     "metadata": {},
     "output_type": "execute_result"
    }
   ],
   "source": [
    "from sklearn.preprocessing import MinMaxScaler\n",
    "\n",
    "x = finalDf.iloc[:, [0]]\n",
    "y = finalDf.iloc[:, 1]\n",
    "\n",
    "from sklearn.model_selection import train_test_split\n",
    "X_train, X_test, Y_train, Y_test = train_test_split(x, y, train_size = 0.8, test_size = 0.2, random_state = 42)\n",
    "\n",
    "from sklearn.preprocessing import StandardScaler\n",
    "X_test.shape\n",
    "x.shape"
   ]
  },
  {
   "cell_type": "code",
   "execution_count": 54,
   "id": "f0382859",
   "metadata": {},
   "outputs": [],
   "source": [
    "svr_rbf = SVR(kernel='rbf', C=1e3, gamma=0.1) \n",
    "svr_lin = SVR(kernel='linear', C=1e3) \n",
    "svr_poly = SVR(kernel='poly', C=1e3, degree=2) \n",
    "y_rbf = svr_rbf.fit(x, y).predict(x) \n",
    "y_lin = svr_lin.fit(x, y).predict(x) \n",
    "y_poly = svr_poly.fit(x, y).predict(x) "
   ]
  },
  {
   "cell_type": "code",
   "execution_count": 55,
   "id": "07cf0547",
   "metadata": {},
   "outputs": [
    {
     "data": {
      "image/png": "[encoded data removed]",
      "text/plain": [
       "<Figure size 432x288 with 1 Axes>"
      ]
     },
     "metadata": {
      "needs_background": "light"
     },
     "output_type": "display_data"
    }
   ],
   "source": [
    "lw = 2 \n",
    "plt.scatter(x, y, color='darkorange', label='data') \n",
    "plt.plot(x, y_rbf, color='navy', lw=lw, label='RBF model') \n",
    "plt.plot(x, y_lin, color='c', lw=lw, label='Linear model') \n",
    "plt.plot(x, y_poly, color='cornflowerblue', lw=lw, label='Polynomial model') \n",
    "plt.xlabel('data') \n",
    "plt.ylabel('target') \n",
    "plt.title('Support Vector Regression') \n",
    "plt.legend() \n",
    "plt.show() "
   ]
  },
  {
   "cell_type": "code",
   "execution_count": 44,
   "id": "9a233e50",
   "metadata": {},
   "outputs": [],
   "source": [
    "#theta, cost = linear_regression(X_t, Y_t, 0.01, 545)\n",
    "#cost = list(cost)\n",
    "\n",
    "#theta2, cost2 = linear_regression(X_v, Y_v, 0.01, 545)\n",
    "#cost2 = list(cost2)\n",
    "#iteration = [x for x in range(1,546)]\n",
    "#iteration2 = [x for x in range(1,546)]\n",
    "#plt.plot(iteration, cost)\n",
    "#plt.plot(iteration2, cost2)\n",
    "#plt.legend()\n",
    "#plt.grid()\n",
    "#plt.xlabel('Iterations')\n",
    "#plt.ylabel('Cost')\n",
    "#plt.title('Convergence')"
   ]
  },
  {
   "cell_type": "code",
   "execution_count": null,
   "id": "71c90665",
   "metadata": {},
   "outputs": [],
   "source": []
  }
 ],
 "metadata": {
  "kernelspec": {
   "display_name": "Python 3",
   "language": "python",
   "name": "python3"
  },
  "language_info": {
   "codemirror_mode": {
    "name": "ipython",
    "version": 3
   },
   "file_extension": ".py",
   "mimetype": "text/x-python",
   "name": "python",
   "nbconvert_exporter": "python",
   "pygments_lexer": "ipython3",
   "version": "3.8.8"
  }
 },
 "nbformat": 4,
 "nbformat_minor": 5
}
